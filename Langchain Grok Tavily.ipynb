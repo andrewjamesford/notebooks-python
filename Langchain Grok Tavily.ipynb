{
 "cells": [
  {
   "cell_type": "code",
   "execution_count": null,
   "metadata": {
    "colab": {
     "base_uri": "https://localhost:8080/"
    },
    "executionInfo": {
     "elapsed": 10952,
     "status": "ok",
     "timestamp": 1743650010648,
     "user": {
      "displayName": "Andrew Ford",
      "userId": "18215324844268783859"
     },
     "user_tz": -780
    },
    "id": "ijlAe2KyDwKa",
    "outputId": "4be55343-1565-482e-e4a5-db2b1159c36d"
   },
   "outputs": [
    {
     "name": "stdout",
     "output_type": "stream",
     "text": [
      "What news categories they are interested in?\n",
      "New Zealand, Technology, Sports and Science\n",
      "<think>\n",
      "Okay, so I just got this query where the user wants me to summarize some news articles from the NZ Herald. Let me start by understanding what exactly they're asking for. They provided a JSON with the title, URL, content, and some other details. The content seems to be a list of various news headlines from different sections like Business, World, etc.\n",
      "\n",
      "First, I need to figure out the key points from each article. The user mentioned it's for when they wake up, so they probably want a concise and clear overview of the latest news. They might be looking for something quick to read in the morning to stay updated without going into too much detail.\n",
      "\n",
      "Looking at the content, there are multiple articles. I should categorize them to make the summary organized. Business, World, and Local news sections make sense. Under each category, I'll list the main points from each article.\n",
      "\n",
      "For example, in the Business section, there's Microsoft launching a 'responsible AI' foundation. That's a significant move, so I should highlight that. Also, the Kiwi creative behind a Super Bowl ad is interesting because it showcases local talent on a global stage.\n",
      "\n",
      "In the World news, the avian flu causing egg shortages in the US is important because it affects daily life. The tsunami warning being lifted is also crucial as it affects safety. The UK minister being sacked is a political update that shows accountability.\n",
      "\n",
      "Under Local news, the top financier's plan for public infrastructure is about economic development. The My Net Worth segment gives a personal finance angle, and the Moo Moo’s review is about lifestyle and dining.\n",
      "\n",
      "I should make sure each point is brief but informative. The user probably wants to know the headlines without reading each full article. Also, since it's a morning summary, it should be easy to digest quickly.\n",
      "\n",
      "I need to structure the response clearly, maybe using headings for each section and bullet points for each article. That way, the user can scan through the summary efficiently.\n",
      "\n",
      "I should also keep the language simple and straightforward, avoiding any jargon. The goal is to inform without overwhelming the user with too much information.\n",
      "\n",
      "Wait, I should double-check if all the articles are relevant and up-to-date. The dates range from February 7 to 9, so they're recent. That's good because the user is likely looking for the latest news.\n",
      "\n",
      "I also notice that some articles are from BusinessDesk, which might be premium content. I should mention that where applicable so the user knows some parts might require a subscription.\n",
      "\n",
      "Overall, the summary should cover the most impactful news across different categories, giving the user a well-rounded view of current events. I need to ensure each point is concise and captures the essence of the article without getting into the nitty-gritty details.\n",
      "\n",
      "Alright, I think I have a good structure in mind. I'll start by introducing it as a morning summary, then break it down into sections with bullet points. Each bullet will have the article title and a brief description. That should meet the user's needs effectively.\n",
      "</think>\n",
      "\n",
      "Here’s a concise summary of the news articles for your morning update:\n",
      "\n",
      "### **Business News**\n",
      "- **Microsoft to Launch 'Responsible AI' Foundation in Abu Dhabi**: Microsoft is making moves in the AI space, setting up a foundation focused on responsible AI development, signaling new alliances outside the traditional Big Tech giants.\n",
      "- **Kiwi Creative Behind Super Bowl Ad**: A New Zealand-based creative is gaining attention for their work on a Super Bowl ad featuring iconic US advertising characters, highlighting New Zealand's creative talent.\n",
      "\n",
      "### **World News**\n",
      "- **AI Safety Talks in Paris**: Experts are urging action on AI safety at global talks in Paris, with a platform identifying 300 AI risk tools to address potential dangers.\n",
      "- **Avian Flu Impact in the US**: The US is experiencing egg price hikes and shortages due to an avian flu outbreak.\n",
      "- **Tsunami Warning Lifted**: A powerful earthquake near the Cayman Islands prompted a tsunami warning, which has since been lifted with no further threat reported.\n",
      "- **UK Minister Sacked**: A UK minister was dismissed for controversial remarks about a pensioner who didn’t vote for Labour.\n",
      "\n",
      "### **Local News**\n",
      "- **Top NZ Financier’s Infrastructure Plan**: A prominent New Zealand financier has proposed a plan to afford more public infrastructure, addressing economic development.\n",
      "- **My Net Worth: Wayne Gentle**: An interview with Wayne Gentle from Milford Asset Management offers insights into personal finance and investment strategies.\n",
      "- **Restaurant Review: Moo Moo’s**: A review highlights Moo Moo’s as a top spot for smoky, flavorful barbecue.\n",
      "- **‘Made in New Zealand’ Defence Tech**: There’s a growing case for developing and promoting New Zealand-made defence technology.\n",
      "- **Simon Robertson on Success**: Advice from Simon Robertson emphasizes surrounding oneself with successful people for personal and professional growth.\n",
      "\n",
      "Let me know if you'd like more details on any of these stories!\n"
     ]
    }
   ],
   "source": [
    "from groq import Groq\n",
    "from langchain_community.tools import TavilySearchResults\n",
    "\n",
    "\n",
    "tool = TavilySearchResults(\n",
    "    max_results=3,\n",
    "    include_answer=True,\n",
    "    include_raw_content=True,\n",
    "    include_images=False,\n",
    "    search_depth=\"advanced\",    \n",
    "    topic=\"news\",\n",
    "    include_domains = [\"nzherald.co.nz\",\"apnews.com\", \"reuters.com\"]\n",
    ")\n",
    "\n",
    "def truncate_string(string, max_length):\n",
    "       return string[:max_length]\n",
    "\n",
    "\n",
    "userInterests = \"New Zealand, Technology, Sports and Science\"\n",
    "\n",
    "toolPrompt = f\"\"\"\n",
    "Get me the top 3 news articles for the day related to {userInterests}\n",
    "\"\"\"\n",
    "\n",
    "result = tool.invoke({'query': toolPrompt})\n",
    "\n",
    "prompt = f\"\"\"\n",
    "Summarize the following news articles\n",
    "{result}\n",
    "\"\"\"\n",
    "\n",
    "print(\"What news categories they are interested in?\")\n",
    "print(userInterests)\n",
    "\n",
    "client = Groq()\n",
    "\n",
    "chat_completion = client.chat.completions.create(\n",
    "    messages=[\n",
    "        {\n",
    "            \"role\": \"system\",\n",
    "            \"content\": \"You are a smart assistant that gives helpful summaries when the user wakes up.\",\n",
    "        },\n",
    "        {\n",
    "            \"role\": \"user\",\n",
    "            \"content\": truncate_string(prompt, 4000),\n",
    "        }\n",
    "    ],\n",
    "    model=\"deepseek-r1-distill-llama-70b\",\n",
    ")\n",
    "\n",
    "\n",
    "print(chat_completion.choices[0].message.content)"
   ]
  }
 ],
 "metadata": {
  "colab": {
   "authorship_tag": "ABX9TyPz8o2qPG8CZQwk5raRVRQ5",
   "provenance": []
  },
  "kernelspec": {
   "display_name": ".venv",
   "language": "python",
   "name": "python3"
  },
  "language_info": {
   "codemirror_mode": {
    "name": "ipython",
    "version": 3
   },
   "file_extension": ".py",
   "mimetype": "text/x-python",
   "name": "python",
   "nbconvert_exporter": "python",
   "pygments_lexer": "ipython3",
   "version": "3.11.11"
  }
 },
 "nbformat": 4,
 "nbformat_minor": 0
}
