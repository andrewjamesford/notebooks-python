{
 "cells": [
  {
   "cell_type": "code",
   "execution_count": 1,
   "metadata": {
    "colab": {
     "base_uri": "https://localhost:8080/"
    },
    "executionInfo": {
     "elapsed": 10952,
     "status": "ok",
     "timestamp": 1743650010648,
     "user": {
      "displayName": "Andrew Ford",
      "userId": "18215324844268783859"
     },
     "user_tz": -780
    },
    "id": "ijlAe2KyDwKa",
    "outputId": "4be55343-1565-482e-e4a5-db2b1159c36d"
   },
   "outputs": [
    {
     "name": "stdout",
     "output_type": "stream",
     "text": [
      "What news categories they are interested in?\n",
      "New Zealand, Technology, Sports and Science\n",
      "<think>\n",
      "Okay, so I just got a message from the user. They want me to summarize some news articles from the NZ Herald. Let me take a look at what they provided. \n",
      "\n",
      "Hmm, the content is a mix of different articles. I see some business news, like Microsoft launching an AI foundation in Abu Dhabi. That's interesting because it's about AI, which is a hot topic. Then there's something about a Kiwi creative involved in a Super Bowl ad. That's cool because it's a local success story.\n",
      "\n",
      "There's also some international news, like the avian flu causing egg prices to go up in the US. I should mention that because it affects people's daily lives. Oh, and a tsunami warning was lifted after an earthquake near the Cayman Islands. That's important because natural disasters are always a big deal.\n",
      "\n",
      "I notice some articles about experts talking about AI safety in Paris. That ties into the Microsoft story, so maybe I can group those together. Also, a UK minister got sacked for some controversial comments. That's a political scandal, so it's worth including.\n",
      "\n",
      "Looking at the business section, there's a financier talking about public infrastructure. That's relevant for local development. There are some reviews and opinion pieces, like \"My Net Worth\" and a restaurant review, but those might be less urgent. Maybe I can briefly mention them or focus on the more impactful news.\n",
      "\n",
      "I should organize the summary into clear sections: Business & Technology, World News, Local Business, and maybe a misc section for the lighter stuff like the quiz and reviews. That way, the user can quickly scan the key points.\n",
      "\n",
      "I need to make sure each point is concise. For example, Microsoft's AI foundation, the Super Bowl ad, avian flu, tsunami warning, AI safety talks, the UK minister, and the financier's plan. I'll wrap it up with a brief mention of the other articles for those interested.\n",
      "\n",
      "I should keep the language clear and straightforward, avoiding any jargon. Make sure the user gets the main highlights without getting overwhelmed. Also, since it's a morning summary, it should be easy to digest first thing.\n",
      "\n",
      "Alright, I think I have a good structure. Let me put it all together in a way that's easy to read and covers all the important points without missing anything crucial.\n",
      "</think>\n",
      "\n",
      "Here’s a concise summary of the key news articles from the NZ Herald:\n",
      "\n",
      "### Business & Technology:\n",
      "- **Microsoft to Launch 'Responsible AI' Foundation in Abu Dhabi**: Microsoft is making moves in the AI space, setting up a foundation focused on responsible AI practices in Abu Dhabi. This reflects growing interest from non-Big Tech companies in the AI sector.\n",
      "- **Kiwi Creative Behind Super Bowl Ad**: A New Zealand creative is gaining attention for their work on a Super Bowl ad featuring iconic U.S. advertising characters, highlighting New Zealand's creative talent.\n",
      "\n",
      "### World News:\n",
      "- **Avian Flu Impact on U.S. Egg Prices**: The U.S. is experiencing a surge in egg prices and shortages due to an avian flu outbreak.\n",
      "- **Tsunami Warning Lifted After Earthquake**: A powerful earthquake near the Cayman Islands prompted a tsunami warning, which has since been lifted.\n",
      "- **AI Safety Talks in Paris**: Experts at the Global Risk and AI Safety Preparedness platform in Paris are calling for action on AI safety, identifying 300 AI risk tools.\n",
      "\n",
      "### Local Business & Opinion:\n",
      "- **Top NZ Financier’s Plan for Public Infrastructure**: A prominent New Zealand financier has proposed strategies to afford more public infrastructure.\n",
      "- **‘Made in New Zealand’ Defence Tech**: There is growing support for developing defence technology locally in New Zealand.\n",
      "\n",
      "### Miscellaneous:\n",
      "- **Afternoon Quiz**: The original purpose of Play-Doh when it was first invented is highlighted in a fun quiz.\n",
      "- **Review: Smoky Heaven at Moo Moo’s**: A restaurant review praises the smoky flavors at Moo Moo’s.\n",
      "- **My Net Worth: Wayne Gentle**: An interview with Wayne Gentle from Milford Asset Management discusses his financial journey.\n",
      "\n",
      "Let me know if you'd like more details on any of these!\n"
     ]
    }
   ],
   "source": [
    "from groq import Groq\n",
    "from langchain_community.tools import TavilySearchResults\n",
    "\n",
    "\n",
    "tool = TavilySearchResults(\n",
    "    max_results=3,\n",
    "    include_answer=True,\n",
    "    include_raw_content=True,\n",
    "    include_images=False,\n",
    "    search_depth=\"advanced\",    \n",
    "    topic=\"news\",\n",
    "    include_domains = [\"nzherald.co.nz\",\"apnews.com\", \"reuters.com\"]\n",
    ")\n",
    "\n",
    "def truncate_string(string, max_length):\n",
    "       return string[:max_length]\n",
    "\n",
    "\n",
    "userInterests = \"New Zealand, Technology, Sports and Science\"\n",
    "\n",
    "toolPrompt = f\"\"\"\n",
    "Get me the top 3 news articles for the day related to {userInterests}\n",
    "\"\"\"\n",
    "\n",
    "result = tool.invoke({'query': toolPrompt})\n",
    "\n",
    "prompt = f\"\"\"\n",
    "Summarize the following news articles\n",
    "{result}\n",
    "\"\"\"\n",
    "\n",
    "print(\"What news categories they are interested in?\")\n",
    "print(userInterests)\n",
    "\n",
    "client = Groq()\n",
    "\n",
    "chat_completion = client.chat.completions.create(\n",
    "    messages=[\n",
    "        {\n",
    "            \"role\": \"system\",\n",
    "            \"content\": \"You are a smart assistant that gives helpful summaries when the user wakes up.\",\n",
    "        },\n",
    "        {\n",
    "            \"role\": \"user\",\n",
    "            \"content\": truncate_string(prompt, 4000),\n",
    "        }\n",
    "    ],\n",
    "    model=\"deepseek-r1-distill-llama-70b\",\n",
    ")\n",
    "\n",
    "\n",
    "print(chat_completion.choices[0].message.content)"
   ]
  }
 ],
 "metadata": {
  "colab": {
   "authorship_tag": "ABX9TyPz8o2qPG8CZQwk5raRVRQ5",
   "provenance": []
  },
  "kernelspec": {
   "display_name": ".venv",
   "language": "python",
   "name": "python3"
  },
  "language_info": {
   "codemirror_mode": {
    "name": "ipython",
    "version": 3
   },
   "file_extension": ".py",
   "mimetype": "text/x-python",
   "name": "python",
   "nbconvert_exporter": "python",
   "pygments_lexer": "ipython3",
   "version": "3.11.11"
  }
 },
 "nbformat": 4,
 "nbformat_minor": 0
}
