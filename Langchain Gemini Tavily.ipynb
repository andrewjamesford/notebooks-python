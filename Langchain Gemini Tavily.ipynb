{
 "cells": [
  {
   "cell_type": "code",
   "execution_count": null,
   "metadata": {
    "colab": {
     "base_uri": "https://localhost:8080/"
    },
    "collapsed": true,
    "executionInfo": {
     "elapsed": 24594,
     "status": "ok",
     "timestamp": 1743662349985,
     "user": {
      "displayName": "Andrew Ford",
      "userId": "18215324844268783859"
     },
     "user_tz": -780
    },
    "id": "5q_RY97rPtG-",
    "outputId": "39aee068-db30-40b5-fa1f-2dc4331b47d4"
   },
   "outputs": [
    {
     "name": "stdout",
     "output_type": "stream",
     "text": [
      "What news categories they are interested in?\n",
      "New Zealand, Technology, Sports and Science\n",
      "Okay, here's a quick rundown of what's been happening:\n",
      "\n",
      "*   **Australia:** A significant new law has been passed banning social media use for children under the age of 16.\n",
      "*   **Global Headlines:** Reuters highlights ongoing international tensions, including Russian advances in Kursk (Ukraine), continued unrest and diplomatic activity in the Middle East (Syria, US-Hamas talks), and trade friction between Canada and China amid US tariff policies. In the US, authorities arrested a student protester at Columbia University, and the Secret Service shot an armed man near the White House.\n",
      "*   **New Zealand:** The NZ Herald covers domestic issues, including concerns that the cost of living is impacting access to medical tools, ongoing debate about the foreign buyer ban, and alarm over school bus service cuts. There was also a fatal crash in Lewis Pass, and a story about 100 cats needing new homes due to their owner's illness.\n",
      "*   **Sports:** India defeated New Zealand to win the Champions Trophy in cricket. In ski jumping, Norwegian competitors admitted to cheating at the World Championships. Tennis star Djokovic suffered a surprise loss at Indian Wells.\n",
      "\n",
      "That's the main news to get you started!\n"
     ]
    }
   ],
   "source": [
    "from xmlrpc.client import FastMarshaller\n",
    "from langchain_community.tools import TavilySearchResults\n",
    "from google import genai\n",
    "from google.genai import types\n",
    "\n",
    "client = genai.Client()\n",
    "\n",
    "tool = TavilySearchResults(\n",
    "    max_results=5,\n",
    "    include_answer=True,\n",
    "    include_raw_content=True,\n",
    "    include_images=FastMarshaller,\n",
    "    search_depth=\"advanced\",\n",
    "    topic=\"news\",\n",
    "    include_domains = [\"nzherald.co.nz\",\"apnews.com\", \"reuters.com\"],\n",
    ")\n",
    "\n",
    "userInterests = \"New Zealand, Technology, Sports and Science\"\n",
    "\n",
    "toolPrompt = f\"\"\"\n",
    "Get me the top news articles for the day related to {userInterests}\n",
    "\"\"\"\n",
    "\n",
    "result = tool.invoke({'query': toolPrompt })\n",
    "\n",
    "prompt = f\"\"\"\n",
    "Summarize the following news articles\n",
    "\n",
    "{result}\n",
    "\n",
    "Return a summary to the user\n",
    "\"\"\"\n",
    "\n",
    "print(\"What news categories they are interested in?\")\n",
    "print(userInterests)\n",
    "\n",
    "response = client.models.generate_content(\n",
    "    model='gemini-2.5-pro-exp-03-25',\n",
    "    config=types.GenerateContentConfig(\n",
    "        system_instruction=\"You are a smart assistant that gives helpful summaries when the user wakes up.\"),\n",
    "    contents=prompt\n",
    ")\n",
    "\n",
    "\n",
    "print(response.text)"
   ]
  }
 ],
 "metadata": {
  "colab": {
   "authorship_tag": "ABX9TyOFiL5ZjGhTXbSuqqpsYlrr",
   "provenance": []
  },
  "kernelspec": {
   "display_name": ".venv",
   "language": "python",
   "name": "python3"
  },
  "language_info": {
   "codemirror_mode": {
    "name": "ipython",
    "version": 3
   },
   "file_extension": ".py",
   "mimetype": "text/x-python",
   "name": "python",
   "nbconvert_exporter": "python",
   "pygments_lexer": "ipython3",
   "version": "3.11.11"
  }
 },
 "nbformat": 4,
 "nbformat_minor": 0
}
