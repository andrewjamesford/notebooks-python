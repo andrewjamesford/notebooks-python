{
 "cells": [
  {
   "cell_type": "code",
   "execution_count": 2,
   "metadata": {
    "colab": {
     "base_uri": "https://localhost:8080/"
    },
    "collapsed": true,
    "executionInfo": {
     "elapsed": 24594,
     "status": "ok",
     "timestamp": 1743662349985,
     "user": {
      "displayName": "Andrew Ford",
      "userId": "18215324844268783859"
     },
     "user_tz": -780
    },
    "id": "5q_RY97rPtG-",
    "outputId": "39aee068-db30-40b5-fa1f-2dc4331b47d4"
   },
   "outputs": [
    {
     "name": "stdout",
     "output_type": "stream",
     "text": [
      "What news categories they are interested in?\n",
      "New Zealand, Technology, Sports and Science\n",
      "Good morning! Here's a look at what's been happening:\n",
      "\n",
      "In New Zealand news, the rising cost of living is reportedly preventing some Kiwis from accessing essential medical tools. An owner's cancer diagnosis has left 100 cats in need of new homes. Concerns have been raised by parents about school bus route cuts impacting student safety, and tragically, one person died following a crash in Lewis Pass. Scientists are currently working to better understand the Hikurangi Subduction Zone, considered New Zealand's largest earthquake threat.\n",
      "\n",
      "On the business and tech front, Microsoft plans to launch a 'responsible AI' foundation in Abu Dhabi, while experts at recent talks in Paris called for more action on AI safety. A Kiwi creative was involved in making a Super Bowl ad featuring iconic US advertising characters.\n",
      "\n",
      "Internationally, avian flu is leading to higher egg prices and shortages in the US. A tsunami warning issued after an earthquake near the Cayman Islands has been lifted. In the UK, a minister was dismissed over offensive remarks.\n",
      "\n",
      "In sport, Ireland defeated Scotland in rugby, keeping their Grand Slam hopes alive. Closer to home, older Year 14 rowers have been banned from participating in the Maadi Regatta school rowing competition.\n"
     ]
    }
   ],
   "source": [
    "from langchain_community.tools import TavilySearchResults\n",
    "from google import genai\n",
    "from google.genai import types\n",
    "\n",
    "client = genai.Client()\n",
    "\n",
    "tool = TavilySearchResults(\n",
    "    max_results=5,\n",
    "    include_answer=True,\n",
    "    include_raw_content=True,\n",
    "    include_images=False,\n",
    "    search_depth=\"advanced\",\n",
    "    topic=\"news\",\n",
    "    include_domains = [\"nzherald.co.nz\",\"apnews.com\", \"reuters.com\"],\n",
    ")\n",
    "\n",
    "userInterests = \"New Zealand, Technology, Sports and Science\"\n",
    "\n",
    "toolPrompt = f\"\"\"\n",
    "Get me the top news articles for the day related to {userInterests}\n",
    "\"\"\"\n",
    "\n",
    "result = tool.invoke({'query': toolPrompt })\n",
    "\n",
    "prompt = f\"\"\"\n",
    "Summarize the following news articles\n",
    "\n",
    "{result}\n",
    "\n",
    "Return a summary to the user\n",
    "\"\"\"\n",
    "\n",
    "print(\"What news categories they are interested in?\")\n",
    "print(userInterests)\n",
    "\n",
    "response = client.models.generate_content(\n",
    "    model='gemini-2.5-pro-exp-03-25',\n",
    "    config=types.GenerateContentConfig(\n",
    "        system_instruction=\"You are a smart assistant that gives helpful summaries when the user wakes up.\"),\n",
    "    contents=prompt\n",
    ")\n",
    "\n",
    "\n",
    "print(response.text)"
   ]
  }
 ],
 "metadata": {
  "colab": {
   "authorship_tag": "ABX9TyOFiL5ZjGhTXbSuqqpsYlrr",
   "provenance": []
  },
  "kernelspec": {
   "display_name": ".venv",
   "language": "python",
   "name": "python3"
  },
  "language_info": {
   "codemirror_mode": {
    "name": "ipython",
    "version": 3
   },
   "file_extension": ".py",
   "mimetype": "text/x-python",
   "name": "python",
   "nbconvert_exporter": "python",
   "pygments_lexer": "ipython3",
   "version": "3.11.11"
  }
 },
 "nbformat": 4,
 "nbformat_minor": 0
}
